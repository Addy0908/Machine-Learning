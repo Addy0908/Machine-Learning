{
 "cells": [
  {
   "cell_type": "code",
   "execution_count": 14,
   "id": "e069e428",
   "metadata": {},
   "outputs": [
    {
     "name": "stdout",
     "output_type": "stream",
     "text": [
      "The Given dataset:-\n",
      "   citations    size inLibrary       price editions  buy\n",
      "0      some   small        no  affordable     many   no\n",
      "1      many     big        no   expensive      one  yes\n",
      "2      some     big    always   expensive      few   no\n",
      "3      many  medium        no   expensive     many  yes\n",
      "4      many   small        no  affordable     many  yes\n",
      "\n",
      "The target is:  ['no' 'yes' 'no' 'yes' 'yes']\n",
      "\n",
      "The attributes are:\n",
      "  [['some', 'small', 'no', 'affordable', 'many', 'no'], ['many', 'big', 'no', 'expensive', 'one', 'yes'], ['some', 'big', 'always', 'expensive', 'few', 'no'], ['many', 'medium', 'no', 'expensive', 'many', 'yes'], ['many', 'small', 'no', 'affordable', 'many', 'yes']]\n",
      "\n",
      "The total number of training instances are :  5\n",
      "\n",
      "The initial hypothesis is : \n",
      "['0', '0', '0', '0', '0']\n",
      "\n",
      "Instance  1 is ['some', 'small', 'no', 'affordable', 'many', 'no']  and is Negative Instance Hence Ignored\n",
      "The hypothesis for the training instance 1  is:  ['0', '0', '0', '0', '0'] \n",
      "\n",
      "\n",
      "Instance  2 is ['many', 'big', 'no', 'expensive', 'one', 'yes']  and is Positive Instance\n",
      "\n",
      "The hypothesis for the training instance 2  is:  ['many', 'big', 'no', 'expensive', 'one'] \n",
      "\n",
      "\n",
      "Instance  3 is ['some', 'big', 'always', 'expensive', 'few', 'no']  and is Negative Instance Hence Ignored\n",
      "The hypothesis for the training instance 3  is:  ['many', 'big', 'no', 'expensive', 'one'] \n",
      "\n",
      "\n",
      "Instance  4 is ['many', 'medium', 'no', 'expensive', 'many', 'yes']  and is Positive Instance\n",
      "\n",
      "The hypothesis for the training instance 4  is:  ['many', '?', 'no', 'expensive', '?'] \n",
      "\n",
      "\n",
      "Instance  5 is ['many', 'small', 'no', 'affordable', 'many', 'yes']  and is Positive Instance\n",
      "\n",
      "The hypothesis for the training instance 5  is:  ['many', '?', 'no', '?', '?'] \n",
      "\n",
      "\n",
      "The Maximally specific hypothesis for the training instance is  ['many', '?', 'no', '?', '?']\n"
     ]
    }
   ],
   "source": [
    "import csv\n",
    "import pandas as pd\n",
    "import numpy as np\n",
    "#to read the data in the csv file\n",
    "data = pd.read_csv(\"findS1.csv\")\n",
    "print(\"The Given dataset:-\\n\",data)\n",
    "\n",
    "\n",
    "#segragating the target that has positive and negative examples\n",
    "target = np.array(data)[:,-1]\n",
    "print(\"\\nThe target is: \",target)\n",
    "\n",
    "#the attributes are \n",
    "a = []\n",
    "with open('findS1.csv', 'r') as csvfile:\n",
    "    next(csvfile)\n",
    "    for row in csv.reader(csvfile):\n",
    "        a.append(row)\n",
    "    print(\"\\nThe attributes are:\\n \",a)\n",
    "    \n",
    "#total number of training instances\n",
    "print(\"\\nThe total number of training instances are : \",len(a))\n",
    "\n",
    "num_attribute = len(a[0])-1\n",
    "\n",
    "#initial hypothesis\n",
    "print(\"\\nThe initial hypothesis is : \")\n",
    "hypothesis = ['0']*num_attribute\n",
    "print(hypothesis)\n",
    "\n",
    "#implementing find-s algorithm\n",
    "for i in range(0, len(a)):\n",
    "    if a[i][num_attribute] == 'yes':\n",
    "        print (\"\\nInstance \", i+1, \"is\", a[i], \" and is Positive Instance\\n\")\n",
    "        for j in range(0, num_attribute):\n",
    "            if hypothesis[j] == '0' or hypothesis[j] == a[i][j]:\n",
    "                hypothesis[j] = a[i][j]\n",
    "            else:\n",
    "                hypothesis[j] = '?'\n",
    "        print(\"The hypothesis for the training instance\", i+1, \" is: \" , hypothesis, \"\\n\")\n",
    "\n",
    "    if a[i][num_attribute] == 'no':\n",
    "        print (\"\\nInstance \", i+1, \"is\", a[i], \" and is Negative Instance Hence Ignored\")\n",
    "        print(\"The hypothesis for the training instance\", i+1, \" is: \" , hypothesis, \"\\n\")\n",
    "        \n",
    "#obtaining the final hypothesis\n",
    "print(\"\\nThe Maximally specific hypothesis for the training instance is \", hypothesis)"
   ]
  },
  {
   "cell_type": "code",
   "execution_count": null,
   "id": "cd76e8a7",
   "metadata": {},
   "outputs": [],
   "source": []
  },
  {
   "cell_type": "code",
   "execution_count": null,
   "id": "ac1d7a9c",
   "metadata": {},
   "outputs": [],
   "source": []
  },
  {
   "cell_type": "code",
   "execution_count": null,
   "id": "386f012b",
   "metadata": {},
   "outputs": [],
   "source": []
  },
  {
   "cell_type": "code",
   "execution_count": null,
   "id": "4e8065bb",
   "metadata": {},
   "outputs": [],
   "source": []
  },
  {
   "cell_type": "code",
   "execution_count": null,
   "id": "8694de52",
   "metadata": {},
   "outputs": [],
   "source": []
  },
  {
   "cell_type": "code",
   "execution_count": null,
   "id": "a8aa59ab",
   "metadata": {},
   "outputs": [],
   "source": []
  },
  {
   "cell_type": "code",
   "execution_count": null,
   "id": "1783ab47",
   "metadata": {},
   "outputs": [],
   "source": []
  },
  {
   "cell_type": "code",
   "execution_count": null,
   "id": "bd3c4299",
   "metadata": {},
   "outputs": [],
   "source": []
  }
 ],
 "metadata": {
  "kernelspec": {
   "display_name": "Python 3 (ipykernel)",
   "language": "python",
   "name": "python3"
  },
  "language_info": {
   "codemirror_mode": {
    "name": "ipython",
    "version": 3
   },
   "file_extension": ".py",
   "mimetype": "text/x-python",
   "name": "python",
   "nbconvert_exporter": "python",
   "pygments_lexer": "ipython3",
   "version": "3.9.4"
  }
 },
 "nbformat": 4,
 "nbformat_minor": 5
}
