{
 "cells": [
  {
   "cell_type": "code",
   "execution_count": 102,
   "id": "e22c51e7",
   "metadata": {},
   "outputs": [],
   "source": [
    "\n",
    "# Simple Linear Regression\n",
    "# Importing the libraries\n",
    "\n",
    "import numpy as np\n",
    "import pandas as pd\n",
    "import matplotlib.pyplot as plt\n",
    "from sklearn.linear_model import LinearRegression"
   ]
  },
  {
   "cell_type": "code",
   "execution_count": 103,
   "id": "0a03af81",
   "metadata": {},
   "outputs": [],
   "source": [
    "# Importing the datasets\n",
    "\n",
    "data = pd.read_csv('Simple_Linear_regression.csv')\n",
    "data\n",
    "x = np.array(data[\"AGE\"]).reshape(-1,1)\n",
    "y = np.array(data[\"Glucose_level\"]).reshape(-1,1)"
   ]
  },
  {
   "cell_type": "code",
   "execution_count": 104,
   "id": "46c66879",
   "metadata": {},
   "outputs": [
    {
     "name": "stdout",
     "output_type": "stream",
     "text": [
      "dataset\n",
      "    AGE  Glucose_level\n",
      "0   43             99\n",
      "1   21             65\n",
      "2   25             79\n",
      "3   42             75\n",
      "4   57             87\n",
      "5   59             81\n",
      "x\n",
      " [[43]\n",
      " [21]\n",
      " [25]\n",
      " [42]\n",
      " [57]\n",
      " [59]]\n",
      "y\n",
      " [[99]\n",
      " [65]\n",
      " [79]\n",
      " [75]\n",
      " [87]\n",
      " [81]]\n"
     ]
    }
   ],
   "source": [
    "print(\"dataset\\n\",data)\n",
    "print(\"x\\n\",x)\n",
    "\n",
    "print(\"y\\n\",y)"
   ]
  },
  {
   "cell_type": "code",
   "execution_count": 116,
   "id": "5f8368a9",
   "metadata": {},
   "outputs": [],
   "source": []
  },
  {
   "cell_type": "code",
   "execution_count": 105,
   "id": "f895cd36",
   "metadata": {},
   "outputs": [],
   "source": [
    "# Fitting Simple Linear Regression to the training set\n",
    "model = LinearRegression()"
   ]
  },
  {
   "cell_type": "code",
   "execution_count": 126,
   "id": "abf4a736",
   "metadata": {},
   "outputs": [
    {
     "data": {
      "text/plain": [
       "LinearRegression()"
      ]
     },
     "execution_count": 126,
     "metadata": {},
     "output_type": "execute_result"
    }
   ],
   "source": [
    "model.fit(x,y)"
   ]
  },
  {
   "cell_type": "code",
   "execution_count": 127,
   "id": "97f7ab92",
   "metadata": {},
   "outputs": [],
   "source": [
    "model = LinearRegression().fit(x,y)"
   ]
  },
  {
   "cell_type": "code",
   "execution_count": 129,
   "id": "aa79cb57",
   "metadata": {},
   "outputs": [
    {
     "name": "stdout",
     "output_type": "stream",
     "text": [
      "coefficient of determination: 0.2806974725220722\n"
     ]
    }
   ],
   "source": [
    "r_sq = model.score(x,y)\n",
    "print('coefficient of determination:', r_sq)"
   ]
  },
  {
   "cell_type": "code",
   "execution_count": 130,
   "id": "26d519c3",
   "metadata": {},
   "outputs": [
    {
     "name": "stdout",
     "output_type": "stream",
     "text": [
      "intercept: [65.14157152]\n"
     ]
    }
   ],
   "source": [
    "print('intercept:', model.intercept_)"
   ]
  },
  {
   "cell_type": "code",
   "execution_count": 131,
   "id": "7a857081",
   "metadata": {},
   "outputs": [
    {
     "name": "stdout",
     "output_type": "stream",
     "text": [
      "slope: [[0.38522498]]\n"
     ]
    }
   ],
   "source": [
    " print('slope:', model.coef_)"
   ]
  },
  {
   "cell_type": "code",
   "execution_count": 132,
   "id": "30e8f5ed",
   "metadata": {},
   "outputs": [
    {
     "name": "stdout",
     "output_type": "stream",
     "text": [
      "predicted response:\n",
      "[[81.7062458 ]\n",
      " [73.23129617]\n",
      " [74.7721961 ]\n",
      " [81.32102082]\n",
      " [87.09939557]\n",
      " [87.86984553]]\n"
     ]
    }
   ],
   "source": [
    "y_pred = model.predict(x)\n",
    "print('predicted response:', y_pred, sep='\\n')"
   ]
  },
  {
   "cell_type": "code",
   "execution_count": 133,
   "id": "ee17deac",
   "metadata": {},
   "outputs": [
    {
     "name": "stdout",
     "output_type": "stream",
     "text": [
      "\n",
      "The Predicted Glucose Level for Age 55 is 86.32894560107455\n"
     ]
    }
   ],
   "source": [
    "print('\\nThe Predicted Glucose Level for Age 55 is',model.predict([[55]])[0,0])"
   ]
  },
  {
   "cell_type": "code",
   "execution_count": 134,
   "id": "b2c88454",
   "metadata": {},
   "outputs": [
    {
     "data": {
      "image/png": "[encoded data removed]",
      "text/plain": [
       "<Figure size 432x288 with 1 Axes>"
      ]
     },
     "metadata": {
      "needs_background": "light"
     },
     "output_type": "display_data"
    }
   ],
   "source": [
    "# Visualising the Training set results\n",
    "\n",
    "plt.scatter(x, y, color = 'red')\n",
    "plt.plot(x, regressor.predict(x), color = 'blue')\n",
    "plt.title('AGE vs GLucose Level  (Training Set)')\n",
    "plt.xlabel('AGE')\n",
    "plt.ylabel('GLucose Level')\n",
    "plt.show()"
   ]
  },
  {
   "cell_type": "code",
   "execution_count": 135,
   "id": "ab5c0024",
   "metadata": {},
   "outputs": [
    {
     "data": {
      "image/png": "[encoded data removed]",
      "text/plain": [
       "<Figure size 432x288 with 1 Axes>"
      ]
     },
     "metadata": {
      "needs_background": "light"
     },
     "output_type": "display_data"
    }
   ],
   "source": [
    "# Visualising the Test set results\n",
    "\n",
    "plt.scatter(x, y, color = 'red')\n",
    "plt.plot(x, regressor.predict(y), color = 'blue')\n",
    "plt.title(' AGE vs GLucose Level (Test Set)')\n",
    "plt.xlabel('AGE')\n",
    "plt.ylabel('Glucose')\n",
    "plt.show()"
   ]
  },
  {
   "cell_type": "code",
   "execution_count": null,
   "id": "741402b5",
   "metadata": {},
   "outputs": [],
   "source": []
  }
 ],
 "metadata": {
  "kernelspec": {
   "display_name": "Python 3 (ipykernel)",
   "language": "python",
   "name": "python3"
  },
  "language_info": {
   "codemirror_mode": {
    "name": "ipython",
    "version": 3
   },
   "file_extension": ".py",
   "mimetype": "text/x-python",
   "name": "python",
   "nbconvert_exporter": "python",
   "pygments_lexer": "ipython3",
   "version": "3.9.4"
  }
 },
 "nbformat": 4,
 "nbformat_minor": 5
}
