{
 "cells": [
  {
   "cell_type": "code",
   "execution_count": 11,
   "id": "56ba0dc5",
   "metadata": {},
   "outputs": [],
   "source": [
    "import pandas as pd\n",
    "import numpy as np"
   ]
  },
  {
   "cell_type": "code",
   "execution_count": 12,
   "id": "ea260232",
   "metadata": {},
   "outputs": [
    {
     "data": {
      "text/html": [
       "<div>\n",
       "<style scoped>\n",
       "    .dataframe tbody tr th:only-of-type {\n",
       "        vertical-align: middle;\n",
       "    }\n",
       "\n",
       "    .dataframe tbody tr th {\n",
       "        vertical-align: top;\n",
       "    }\n",
       "\n",
       "    .dataframe thead th {\n",
       "        text-align: right;\n",
       "    }\n",
       "</style>\n",
       "<table border=\"1\" class=\"dataframe\">\n",
       "  <thead>\n",
       "    <tr style=\"text-align: right;\">\n",
       "      <th></th>\n",
       "      <th>Age</th>\n",
       "      <th>Job</th>\n",
       "      <th>House</th>\n",
       "      <th>Credit</th>\n",
       "      <th>Loan Approved</th>\n",
       "    </tr>\n",
       "  </thead>\n",
       "  <tbody>\n",
       "    <tr>\n",
       "      <th>0</th>\n",
       "      <td>Young</td>\n",
       "      <td>False</td>\n",
       "      <td>No</td>\n",
       "      <td>Fair</td>\n",
       "      <td>No</td>\n",
       "    </tr>\n",
       "    <tr>\n",
       "      <th>1</th>\n",
       "      <td>Young</td>\n",
       "      <td>False</td>\n",
       "      <td>No</td>\n",
       "      <td>Good</td>\n",
       "      <td>No</td>\n",
       "    </tr>\n",
       "    <tr>\n",
       "      <th>2</th>\n",
       "      <td>Young</td>\n",
       "      <td>True</td>\n",
       "      <td>No</td>\n",
       "      <td>Good</td>\n",
       "      <td>Yes</td>\n",
       "    </tr>\n",
       "    <tr>\n",
       "      <th>3</th>\n",
       "      <td>Young</td>\n",
       "      <td>True</td>\n",
       "      <td>Yes</td>\n",
       "      <td>Fair</td>\n",
       "      <td>Yes</td>\n",
       "    </tr>\n",
       "    <tr>\n",
       "      <th>4</th>\n",
       "      <td>Young</td>\n",
       "      <td>False</td>\n",
       "      <td>No</td>\n",
       "      <td>Fair</td>\n",
       "      <td>No</td>\n",
       "    </tr>\n",
       "    <tr>\n",
       "      <th>5</th>\n",
       "      <td>Middle</td>\n",
       "      <td>False</td>\n",
       "      <td>No</td>\n",
       "      <td>Fair</td>\n",
       "      <td>No</td>\n",
       "    </tr>\n",
       "    <tr>\n",
       "      <th>6</th>\n",
       "      <td>Middle</td>\n",
       "      <td>False</td>\n",
       "      <td>No</td>\n",
       "      <td>Good</td>\n",
       "      <td>No</td>\n",
       "    </tr>\n",
       "    <tr>\n",
       "      <th>7</th>\n",
       "      <td>Middle</td>\n",
       "      <td>True</td>\n",
       "      <td>Yes</td>\n",
       "      <td>Good</td>\n",
       "      <td>Yes</td>\n",
       "    </tr>\n",
       "    <tr>\n",
       "      <th>8</th>\n",
       "      <td>Middle</td>\n",
       "      <td>False</td>\n",
       "      <td>Yes</td>\n",
       "      <td>Excellent</td>\n",
       "      <td>Yes</td>\n",
       "    </tr>\n",
       "    <tr>\n",
       "      <th>9</th>\n",
       "      <td>Middle</td>\n",
       "      <td>False</td>\n",
       "      <td>Yes</td>\n",
       "      <td>Excellent</td>\n",
       "      <td>Yes</td>\n",
       "    </tr>\n",
       "    <tr>\n",
       "      <th>10</th>\n",
       "      <td>Old</td>\n",
       "      <td>False</td>\n",
       "      <td>Yes</td>\n",
       "      <td>Excellent</td>\n",
       "      <td>Yes</td>\n",
       "    </tr>\n",
       "    <tr>\n",
       "      <th>11</th>\n",
       "      <td>Old</td>\n",
       "      <td>False</td>\n",
       "      <td>Yes</td>\n",
       "      <td>Good</td>\n",
       "      <td>Yes</td>\n",
       "    </tr>\n",
       "    <tr>\n",
       "      <th>12</th>\n",
       "      <td>Old</td>\n",
       "      <td>True</td>\n",
       "      <td>No</td>\n",
       "      <td>Good</td>\n",
       "      <td>Yes</td>\n",
       "    </tr>\n",
       "    <tr>\n",
       "      <th>13</th>\n",
       "      <td>Old</td>\n",
       "      <td>True</td>\n",
       "      <td>No</td>\n",
       "      <td>Excellent</td>\n",
       "      <td>Yes</td>\n",
       "    </tr>\n",
       "    <tr>\n",
       "      <th>14</th>\n",
       "      <td>Old</td>\n",
       "      <td>False</td>\n",
       "      <td>No</td>\n",
       "      <td>Fair</td>\n",
       "      <td>No</td>\n",
       "    </tr>\n",
       "  </tbody>\n",
       "</table>\n",
       "</div>"
      ],
      "text/plain": [
       "       Age    Job House     Credit Loan Approved\n",
       "0    Young  False    No       Fair            No\n",
       "1    Young  False    No       Good            No\n",
       "2    Young   True    No       Good           Yes\n",
       "3    Young   True   Yes       Fair           Yes\n",
       "4    Young  False    No       Fair            No\n",
       "5   Middle  False    No       Fair            No\n",
       "6   Middle  False    No       Good            No\n",
       "7   Middle   True   Yes       Good           Yes\n",
       "8   Middle  False   Yes  Excellent           Yes\n",
       "9   Middle  False   Yes  Excellent           Yes\n",
       "10     Old  False   Yes  Excellent           Yes\n",
       "11     Old  False   Yes       Good           Yes\n",
       "12     Old   True    No       Good           Yes\n",
       "13     Old   True    No  Excellent           Yes\n",
       "14     Old  False    No       Fair            No"
      ]
     },
     "execution_count": 12,
     "metadata": {},
     "output_type": "execute_result"
    }
   ],
   "source": [
    "df = pd.read_csv(\"CART_algorithm.csv\")\n",
    "df"
   ]
  },
  {
   "cell_type": "code",
   "execution_count": 13,
   "id": "cc8ad2a1",
   "metadata": {},
   "outputs": [],
   "source": [
    "from sklearn.preprocessing import LabelEncoder"
   ]
  },
  {
   "cell_type": "code",
   "execution_count": 15,
   "id": "304970f7",
   "metadata": {},
   "outputs": [
    {
     "name": "stdout",
     "output_type": "stream",
     "text": [
      "\n",
      "Encoded Classes for Column AGE ['Middle' 'Old' 'Young']\n",
      "Encoded Labels for Column AGE   [0 1 2]\n"
     ]
    }
   ],
   "source": [
    "a = LabelEncoder()\n",
    "a.fit(df[\"Age\"])\n",
    "print(\"\\nEncoded Classes for Column AGE\",a.classes_)\n",
    "print(\"Encoded Labels for Column AGE  \",a.transform(a.classes_))\n"
   ]
  },
  {
   "cell_type": "code",
   "execution_count": 16,
   "id": "b10047dd",
   "metadata": {},
   "outputs": [
    {
     "name": "stdout",
     "output_type": "stream",
     "text": [
      "\n",
      "Encoded Classes for Column JOB [False  True]\n",
      "Encoded Labels for Column JOB  [0 1]\n"
     ]
    }
   ],
   "source": [
    "b = LabelEncoder()\n",
    "b.fit(df[\"Job\"])\n",
    "print(\"\\nEncoded Classes for Column JOB\",b.classes_)\n",
    "print(\"Encoded Labels for Column JOB \",b.transform(b.classes_))\n"
   ]
  },
  {
   "cell_type": "code",
   "execution_count": 17,
   "id": "22211a8f",
   "metadata": {},
   "outputs": [
    {
     "name": "stdout",
     "output_type": "stream",
     "text": [
      "\n",
      "Encoded Classes for Column HOUSE ['No' 'Yes']\n",
      "Encoded Labels for Column HOUSE  [0 1]\n"
     ]
    }
   ],
   "source": [
    "c= LabelEncoder()\n",
    "c.fit(df[\"House\"])\n",
    "print(\"\\nEncoded Classes for Column HOUSE\",c.classes_)\n",
    "print(\"Encoded Labels for Column HOUSE \",c.transform(c.classes_))\n"
   ]
  },
  {
   "cell_type": "code",
   "execution_count": 18,
   "id": "5c5aee37",
   "metadata": {},
   "outputs": [
    {
     "name": "stdout",
     "output_type": "stream",
     "text": [
      "\n",
      "Encoded Classes for Column CREDIT ['Excellent' 'Fair' 'Good']\n",
      "Encoded Labels for Column CREDIT  [0 1 2]\n"
     ]
    }
   ],
   "source": [
    "d = LabelEncoder()\n",
    "d.fit(df[\"Credit\"])\n",
    "print(\"\\nEncoded Classes for Column CREDIT\",d.classes_)\n",
    "print(\"Encoded Labels for Column CREDIT \",d.transform(d.classes_))"
   ]
  },
  {
   "cell_type": "code",
   "execution_count": 19,
   "id": "11732ecc",
   "metadata": {},
   "outputs": [],
   "source": [
    "x = {\"Age\":a.transform(df[\"Age\"]),\"Job\":b.transform(df[\"Job\"]),\"House\":c.transform(df[\"House\"]),\"Credit\":d.transform(df[\"Credit\"])}\n"
   ]
  },
  {
   "cell_type": "code",
   "execution_count": 20,
   "id": "c4afc8ab",
   "metadata": {},
   "outputs": [
    {
     "name": "stdout",
     "output_type": "stream",
     "text": [
      "\n",
      "The encoded dataset is\n",
      "     Age  Job  House  Credit\n",
      "0     2    0      0       1\n",
      "1     2    0      0       2\n",
      "2     2    1      0       2\n",
      "3     2    1      1       1\n",
      "4     2    0      0       1\n",
      "5     0    0      0       1\n",
      "6     0    0      0       2\n",
      "7     0    1      1       2\n",
      "8     0    0      1       0\n",
      "9     0    0      1       0\n",
      "10    1    0      1       0\n",
      "11    1    0      1       2\n",
      "12    1    1      0       2\n",
      "13    1    1      0       0\n",
      "14    1    0      0       1\n"
     ]
    }
   ],
   "source": [
    "x = pd.DataFrame(x)\n",
    "print(\"\\nThe encoded dataset is\\n\",x)"
   ]
  },
  {
   "cell_type": "code",
   "execution_count": 21,
   "id": "370f325b",
   "metadata": {},
   "outputs": [
    {
     "data": {
      "text/plain": [
       "DecisionTreeClassifier()"
      ]
     },
     "execution_count": 21,
     "metadata": {},
     "output_type": "execute_result"
    }
   ],
   "source": [
    "from sklearn.tree import DecisionTreeClassifier\n",
    "model = DecisionTreeClassifier(criterion=\"gini\")\n",
    "model.fit(x,df[\"Loan Approved\"])\n"
   ]
  },
  {
   "cell_type": "code",
   "execution_count": 22,
   "id": "dd394e9f",
   "metadata": {},
   "outputs": [],
   "source": [
    "y=np.array([a.transform([\"Young\"]),b.transform([False]),c.transform([\"No\"]),d.transform([\"Good\"])]).reshape(1,-1)\n"
   ]
  },
  {
   "cell_type": "code",
   "execution_count": 23,
   "id": "ea6d4b9c",
   "metadata": {},
   "outputs": [
    {
     "name": "stdout",
     "output_type": "stream",
     "text": [
      "\n",
      "The test case is Age=Young, Job=False, House=no, Credit=Good\n"
     ]
    }
   ],
   "source": [
    "print(\"\\nThe test case is Age=Young, Job=False, House=no, Credit=Good\")"
   ]
  },
  {
   "cell_type": "code",
   "execution_count": 24,
   "id": "4977ec3a",
   "metadata": {},
   "outputs": [
    {
     "name": "stdout",
     "output_type": "stream",
     "text": [
      "\n",
      "The encoded form of the test case is [[2 0 0 2]]\n"
     ]
    }
   ],
   "source": [
    "print(\"\\nThe encoded form of the test case is\",y)\n"
   ]
  },
  {
   "cell_type": "code",
   "execution_count": 25,
   "id": "fa4f7c62",
   "metadata": {},
   "outputs": [
    {
     "name": "stdout",
     "output_type": "stream",
     "text": [
      "\n",
      "The predicted value for the test case is  ['No']\n"
     ]
    }
   ],
   "source": [
    "print(\"\\nThe predicted value for the test case is \",model.\n",
    "predict(y))"
   ]
  },
  {
   "cell_type": "code",
   "execution_count": null,
   "id": "7a33ee89",
   "metadata": {},
   "outputs": [],
   "source": []
  }
 ],
 "metadata": {
  "kernelspec": {
   "display_name": "Python 3 (ipykernel)",
   "language": "python",
   "name": "python3"
  },
  "language_info": {
   "codemirror_mode": {
    "name": "ipython",
    "version": 3
   },
   "file_extension": ".py",
   "mimetype": "text/x-python",
   "name": "python",
   "nbconvert_exporter": "python",
   "pygments_lexer": "ipython3",
   "version": "3.9.4"
  }
 },
 "nbformat": 4,
 "nbformat_minor": 5
}
