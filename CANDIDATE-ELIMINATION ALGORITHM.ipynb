{
 "cells": [
  {
   "cell_type": "code",
   "execution_count": 11,
   "id": "b39d7226",
   "metadata": {},
   "outputs": [],
   "source": [
    "import numpy as np\n",
    "import pandas as pd"
   ]
  },
  {
   "cell_type": "code",
   "execution_count": 12,
   "id": "c0221d89",
   "metadata": {},
   "outputs": [
    {
     "name": "stdout",
     "output_type": "stream",
     "text": [
      "     Eyes      Nose    Head  Fcolor Hair Smile\n",
      "0   Round  Triangle   Round  Purple  Yes   Yes\n",
      "1  Square    Square  Square   Green  Yes    No\n",
      "2  Square  Triangle   Round  Yellow  Yes   Yes\n",
      "3   Round  Triangle   Round   Green   No    No\n",
      "4  Square    Square   Round  Yellow  Yes   Yes\n"
     ]
    }
   ],
   "source": [
    "# Loading Data from a CSV File\n",
    "data = pd.DataFrame(data=pd.read_csv('candidate.csv'))\n",
    "print(data)"
   ]
  },
  {
   "cell_type": "code",
   "execution_count": 13,
   "id": "3710a5c9",
   "metadata": {},
   "outputs": [
    {
     "name": "stdout",
     "output_type": "stream",
     "text": [
      "[['Round' 'Triangle' 'Round' 'Purple' 'Yes']\n",
      " ['Square' 'Square' 'Square' 'Green' 'Yes']\n",
      " ['Square' 'Triangle' 'Round' 'Yellow' 'Yes']\n",
      " ['Round' 'Triangle' 'Round' 'Green' 'No']\n",
      " ['Square' 'Square' 'Round' 'Yellow' 'Yes']]\n"
     ]
    }
   ],
   "source": [
    "# Separating concept features from Target\n",
    "concepts = np.array(data.iloc[:,0:-1])\n",
    "print(concepts)"
   ]
  },
  {
   "cell_type": "code",
   "execution_count": 14,
   "id": "8c7c439f",
   "metadata": {},
   "outputs": [
    {
     "name": "stdout",
     "output_type": "stream",
     "text": [
      "['Yes' 'No' 'Yes' 'No' 'Yes']\n"
     ]
    }
   ],
   "source": [
    "# Isolating target into a separate DataFrame\n",
    "# copying last column to target array\n",
    "target = np.array(data.iloc[:,-1])\n",
    "print(target)"
   ]
  },
  {
   "cell_type": "code",
   "execution_count": 20,
   "id": "c85e3264",
   "metadata": {},
   "outputs": [],
   "source": [
    "def learn(concepts, target):\n",
    "    \n",
    "    '''\n",
    "        concepts - a data frame with all the features\n",
    "        target - a data frame with corresponding output values\n",
    "    '''\n",
    "\n",
    "    # Initialise S0 with the first instance from concepts\n",
    "    # .copy() makes sure a new list is created instead of just pointing to the same memory location\n",
    "    specific_h = concepts[0].copy()\n",
    "    print(\"\\nInitialization of specific_h and general_h\")\n",
    "    print(specific_h)\n",
    "    #h=[\"#\" for i in range(0,5)]\n",
    "    #print(h)\n",
    "\n",
    "    general_h = [[\"?\" for i in range(len(specific_h))] for i in range(len(specific_h))]\n",
    "    print(general_h)\n",
    "    # The learning iterations\n",
    "    for i, h in enumerate(concepts):\n",
    "\n",
    "        # Checking if the hypothesis has a positive target\n",
    "        if target[i] == \"Yes\":\n",
    "            for x in range(len(specific_h)):\n",
    "\n",
    "                # Change values in S & G only if values change\n",
    "                if h[x] != specific_h[x]:\n",
    "                    specific_h[x] = '?'\n",
    "                    general_h[x][x] = '?'\n",
    "\n",
    "        # Checking if the hypothesis has a negative target\n",
    "        if target[i] == \"No\":\n",
    "            for x in range(len(specific_h)):\n",
    "                # For negative hyposthesis change values only  in G\n",
    "                if h[x] != specific_h[x]:\n",
    "                    general_h[x][x] = specific_h[x]\n",
    "                else:\n",
    "                    general_h[x][x] = '?'\n",
    "\n",
    "        print(\"\\nSteps of Candidate Elimination Algorithm\",i+1)\n",
    "        print(\"Specific Hypothesis:\\n\",specific_h)\n",
    "        print(\"General Hypothesis:\\n\",general_h)\n",
    "    \n",
    "    # find indices where we have empty rows, meaning those that are unchanged\n",
    "    indices = [i for i, val in enumerate(general_h) if val == ['?', '?', '?', '?', '?', '?']]\n",
    "    for i in indices:\n",
    "        # remove those rows from general_h\n",
    "        general_h.remove(['?', '?', '?', '?', '?', '?'])\n",
    "    # Return final values\n",
    "    return specific_h, general_h"
   ]
  },
  {
   "cell_type": "code",
   "execution_count": 21,
   "id": "d57e6122",
   "metadata": {},
   "outputs": [
    {
     "name": "stdout",
     "output_type": "stream",
     "text": [
      "\n",
      "Initialization of specific_h and general_h\n",
      "['Round' 'Triangle' 'Round' 'Purple' 'Yes']\n",
      "[['?', '?', '?', '?', '?'], ['?', '?', '?', '?', '?'], ['?', '?', '?', '?', '?'], ['?', '?', '?', '?', '?'], ['?', '?', '?', '?', '?']]\n",
      "\n",
      "Steps of Candidate Elimination Algorithm 1\n",
      "Specific Hypothesis:\n",
      " ['Round' 'Triangle' 'Round' 'Purple' 'Yes']\n",
      "General Hypothesis:\n",
      " [['?', '?', '?', '?', '?'], ['?', '?', '?', '?', '?'], ['?', '?', '?', '?', '?'], ['?', '?', '?', '?', '?'], ['?', '?', '?', '?', '?']]\n",
      "\n",
      "Steps of Candidate Elimination Algorithm 2\n",
      "Specific Hypothesis:\n",
      " ['Round' 'Triangle' 'Round' 'Purple' 'Yes']\n",
      "General Hypothesis:\n",
      " [['Round', '?', '?', '?', '?'], ['?', 'Triangle', '?', '?', '?'], ['?', '?', 'Round', '?', '?'], ['?', '?', '?', 'Purple', '?'], ['?', '?', '?', '?', '?']]\n",
      "\n",
      "Steps of Candidate Elimination Algorithm 3\n",
      "Specific Hypothesis:\n",
      " ['?' 'Triangle' 'Round' '?' 'Yes']\n",
      "General Hypothesis:\n",
      " [['?', '?', '?', '?', '?'], ['?', 'Triangle', '?', '?', '?'], ['?', '?', 'Round', '?', '?'], ['?', '?', '?', '?', '?'], ['?', '?', '?', '?', '?']]\n",
      "\n",
      "Steps of Candidate Elimination Algorithm 4\n",
      "Specific Hypothesis:\n",
      " ['?' 'Triangle' 'Round' '?' 'Yes']\n",
      "General Hypothesis:\n",
      " [['?', '?', '?', '?', '?'], ['?', '?', '?', '?', '?'], ['?', '?', '?', '?', '?'], ['?', '?', '?', '?', '?'], ['?', '?', '?', '?', 'Yes']]\n",
      "\n",
      "Steps of Candidate Elimination Algorithm 5\n",
      "Specific Hypothesis:\n",
      " ['?' '?' 'Round' '?' 'Yes']\n",
      "General Hypothesis:\n",
      " [['?', '?', '?', '?', '?'], ['?', '?', '?', '?', '?'], ['?', '?', '?', '?', '?'], ['?', '?', '?', '?', '?'], ['?', '?', '?', '?', 'Yes']]\n",
      "\n",
      "Final Specific_h:\n",
      "['?' '?' 'Round' '?' 'Yes']\n",
      "\n",
      "Final General_h:\n",
      "[['?', '?', '?', '?', '?'], ['?', '?', '?', '?', '?'], ['?', '?', '?', '?', '?'], ['?', '?', '?', '?', '?'], ['?', '?', '?', '?', 'Yes']]\n"
     ]
    }
   ],
   "source": [
    "s_final, g_final = learn(concepts, target)\n",
    "print(\"\\nFinal Specific_h:\", s_final, sep=\"\\n\")\n",
    "print(\"\\nFinal General_h:\", g_final, sep=\"\\n\")"
   ]
  },
  {
   "cell_type": "code",
   "execution_count": null,
   "id": "cefd6836",
   "metadata": {},
   "outputs": [],
   "source": []
  }
 ],
 "metadata": {
  "kernelspec": {
   "display_name": "Python 3 (ipykernel)",
   "language": "python",
   "name": "python3"
  },
  "language_info": {
   "codemirror_mode": {
    "name": "ipython",
    "version": 3
   },
   "file_extension": ".py",
   "mimetype": "text/x-python",
   "name": "python",
   "nbconvert_exporter": "python",
   "pygments_lexer": "ipython3",
   "version": "3.9.4"
  }
 },
 "nbformat": 4,
 "nbformat_minor": 5
}
