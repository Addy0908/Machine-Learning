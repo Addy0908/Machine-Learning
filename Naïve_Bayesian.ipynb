{
 "cells": [
  {
   "cell_type": "code",
   "execution_count": 1,
   "id": "84667f65",
   "metadata": {},
   "outputs": [],
   "source": [
    "import numpy as np\n",
    "import matplotlib.pyplot as plt\n",
    "import pandas as pd\n",
    "import sklearn"
   ]
  },
  {
   "cell_type": "code",
   "execution_count": 9,
   "id": "bc76f753",
   "metadata": {},
   "outputs": [
    {
     "data": {
      "text/html": [
       "<div>\n",
       "<style scoped>\n",
       "    .dataframe tbody tr th:only-of-type {\n",
       "        vertical-align: middle;\n",
       "    }\n",
       "\n",
       "    .dataframe tbody tr th {\n",
       "        vertical-align: top;\n",
       "    }\n",
       "\n",
       "    .dataframe thead th {\n",
       "        text-align: right;\n",
       "    }\n",
       "</style>\n",
       "<table border=\"1\" class=\"dataframe\">\n",
       "  <thead>\n",
       "    <tr style=\"text-align: right;\">\n",
       "      <th></th>\n",
       "      <th>Day</th>\n",
       "      <th>Outlook</th>\n",
       "      <th>Temperature</th>\n",
       "      <th>Humidity</th>\n",
       "      <th>Wind</th>\n",
       "      <th>PlayTennis</th>\n",
       "    </tr>\n",
       "  </thead>\n",
       "  <tbody>\n",
       "    <tr>\n",
       "      <th>0</th>\n",
       "      <td>D1</td>\n",
       "      <td>Sunny</td>\n",
       "      <td>Hot</td>\n",
       "      <td>High</td>\n",
       "      <td>Weak</td>\n",
       "      <td>No</td>\n",
       "    </tr>\n",
       "    <tr>\n",
       "      <th>1</th>\n",
       "      <td>D2</td>\n",
       "      <td>Sunny</td>\n",
       "      <td>Hot</td>\n",
       "      <td>High</td>\n",
       "      <td>Strong</td>\n",
       "      <td>No</td>\n",
       "    </tr>\n",
       "    <tr>\n",
       "      <th>2</th>\n",
       "      <td>D3</td>\n",
       "      <td>Overcast</td>\n",
       "      <td>Hot</td>\n",
       "      <td>High</td>\n",
       "      <td>Weak</td>\n",
       "      <td>Yes</td>\n",
       "    </tr>\n",
       "    <tr>\n",
       "      <th>3</th>\n",
       "      <td>D4</td>\n",
       "      <td>Rain</td>\n",
       "      <td>Mild</td>\n",
       "      <td>High</td>\n",
       "      <td>Weak</td>\n",
       "      <td>Yes</td>\n",
       "    </tr>\n",
       "    <tr>\n",
       "      <th>4</th>\n",
       "      <td>D5</td>\n",
       "      <td>Rain</td>\n",
       "      <td>Cool</td>\n",
       "      <td>Normal</td>\n",
       "      <td>Weak</td>\n",
       "      <td>Yes</td>\n",
       "    </tr>\n",
       "    <tr>\n",
       "      <th>5</th>\n",
       "      <td>D6</td>\n",
       "      <td>Rain</td>\n",
       "      <td>Cool</td>\n",
       "      <td>Normal</td>\n",
       "      <td>Strong</td>\n",
       "      <td>No</td>\n",
       "    </tr>\n",
       "    <tr>\n",
       "      <th>6</th>\n",
       "      <td>D7</td>\n",
       "      <td>Overcast</td>\n",
       "      <td>Cool</td>\n",
       "      <td>Normal</td>\n",
       "      <td>Strong</td>\n",
       "      <td>Yes</td>\n",
       "    </tr>\n",
       "    <tr>\n",
       "      <th>7</th>\n",
       "      <td>D8</td>\n",
       "      <td>Sunny</td>\n",
       "      <td>Mild</td>\n",
       "      <td>High</td>\n",
       "      <td>Weak</td>\n",
       "      <td>No</td>\n",
       "    </tr>\n",
       "    <tr>\n",
       "      <th>8</th>\n",
       "      <td>D9</td>\n",
       "      <td>Sunny</td>\n",
       "      <td>Cool</td>\n",
       "      <td>Normal</td>\n",
       "      <td>Weak</td>\n",
       "      <td>Yes</td>\n",
       "    </tr>\n",
       "    <tr>\n",
       "      <th>9</th>\n",
       "      <td>D10</td>\n",
       "      <td>Rain</td>\n",
       "      <td>Mild</td>\n",
       "      <td>Normal</td>\n",
       "      <td>Weak</td>\n",
       "      <td>Yes</td>\n",
       "    </tr>\n",
       "    <tr>\n",
       "      <th>10</th>\n",
       "      <td>D11</td>\n",
       "      <td>Sunny</td>\n",
       "      <td>Mild</td>\n",
       "      <td>Normal</td>\n",
       "      <td>Strong</td>\n",
       "      <td>Yes</td>\n",
       "    </tr>\n",
       "    <tr>\n",
       "      <th>11</th>\n",
       "      <td>D12</td>\n",
       "      <td>Overcast</td>\n",
       "      <td>Mild</td>\n",
       "      <td>High</td>\n",
       "      <td>Strong</td>\n",
       "      <td>Yes</td>\n",
       "    </tr>\n",
       "    <tr>\n",
       "      <th>12</th>\n",
       "      <td>D13</td>\n",
       "      <td>Overcast</td>\n",
       "      <td>Hot</td>\n",
       "      <td>Normal</td>\n",
       "      <td>Weak</td>\n",
       "      <td>Yes</td>\n",
       "    </tr>\n",
       "    <tr>\n",
       "      <th>13</th>\n",
       "      <td>D14</td>\n",
       "      <td>Rain</td>\n",
       "      <td>Mild</td>\n",
       "      <td>High</td>\n",
       "      <td>Strong</td>\n",
       "      <td>No</td>\n",
       "    </tr>\n",
       "  </tbody>\n",
       "</table>\n",
       "</div>"
      ],
      "text/plain": [
       "    Day   Outlook Temperature Humidity    Wind PlayTennis\n",
       "0    D1     Sunny         Hot     High    Weak         No\n",
       "1    D2     Sunny         Hot     High  Strong         No\n",
       "2    D3  Overcast         Hot     High    Weak        Yes\n",
       "3    D4      Rain        Mild     High    Weak        Yes\n",
       "4    D5      Rain        Cool   Normal    Weak        Yes\n",
       "5    D6      Rain        Cool   Normal  Strong         No\n",
       "6    D7  Overcast        Cool   Normal  Strong        Yes\n",
       "7    D8     Sunny        Mild     High    Weak         No\n",
       "8    D9     Sunny        Cool   Normal    Weak        Yes\n",
       "9   D10      Rain        Mild   Normal    Weak        Yes\n",
       "10  D11     Sunny        Mild   Normal  Strong        Yes\n",
       "11  D12  Overcast        Mild     High  Strong        Yes\n",
       "12  D13  Overcast         Hot   Normal    Weak        Yes\n",
       "13  D14      Rain        Mild     High  Strong         No"
      ]
     },
     "execution_count": 9,
     "metadata": {},
     "output_type": "execute_result"
    }
   ],
   "source": [
    "dataset = pd.read_csv('Naïve_Bayesian.csv')\n",
    "dataset\n"
   ]
  },
  {
   "cell_type": "code",
   "execution_count": 16,
   "id": "454f1ef8",
   "metadata": {},
   "outputs": [
    {
     "name": "stdout",
     "output_type": "stream",
     "text": [
      "\n",
      "Encoded Classes for Column Outlook  ['Overcast' 'Rain' 'Sunny']\n",
      "Encoded Labels for Column Outlook [0 1 2]\n"
     ]
    }
   ],
   "source": [
    "a = LabelEncoder()\n",
    "a.fit(dataset[\"Outlook\"])\n",
    "print(\"\\nEncoded Classes for Column Outlook \",a.classes_)\n",
    "print(\"Encoded Labels for Column Outlook\",a.transform(a.classes_))\n"
   ]
  },
  {
   "cell_type": "code",
   "execution_count": 17,
   "id": "3dbd7e15",
   "metadata": {},
   "outputs": [
    {
     "name": "stdout",
     "output_type": "stream",
     "text": [
      "\n",
      "Encoded Classes for Column Temperature ['Cool' 'Hot' 'Mild']\n",
      "Encoded Labels for Column Temperature  [0 1 2]\n"
     ]
    }
   ],
   "source": [
    "b = LabelEncoder()\n",
    "b.fit(dataset[\"Temperature\"])\n",
    "print(\"\\nEncoded Classes for Column Temperature\",b.classes_)\n",
    "print(\"Encoded Labels for Column Temperature \",b.transform(b.classes_))\n"
   ]
  },
  {
   "cell_type": "code",
   "execution_count": 19,
   "id": "f55a8fcb",
   "metadata": {},
   "outputs": [
    {
     "name": "stdout",
     "output_type": "stream",
     "text": [
      "\n",
      "Encoded Classes for  Column Humidity  ['High' 'Normal']\n",
      "Encoded Labels for Column Humidity [0 1]\n"
     ]
    }
   ],
   "source": [
    "c = LabelEncoder()\n",
    "c.fit(dataset[\"Humidity\"])\n",
    "print(\"\\nEncoded Classes for  Column Humidity \",c.classes_)\n",
    "print(\"Encoded Labels for Column Humidity\",c.transform(c.classes_))"
   ]
  },
  {
   "cell_type": "code",
   "execution_count": 21,
   "id": "9b606ee0",
   "metadata": {},
   "outputs": [
    {
     "name": "stdout",
     "output_type": "stream",
     "text": [
      "\n",
      "Encoded Classes for Column Wind ['Strong' 'Weak']\n",
      "Encoded Labels for Column Wind [0 1]\n"
     ]
    }
   ],
   "source": [
    "d = LabelEncoder()\n",
    "d.fit(dataset[\"Wind\"])\n",
    "print(\"\\nEncoded Classes for Column Wind\",d.classes_)\n",
    "print(\"Encoded Labels for Column Wind\",d.transform(d.classes_))\n"
   ]
  },
  {
   "cell_type": "code",
   "execution_count": 22,
   "id": "3a2abc52",
   "metadata": {},
   "outputs": [
    {
     "name": "stdout",
     "output_type": "stream",
     "text": [
      "\n",
      "The encoded dataset is\n",
      "     Outlook  Temperature  Humidity  Wind\n",
      "0         2            1         0     1\n",
      "1         2            1         0     0\n",
      "2         0            1         0     1\n",
      "3         1            2         0     1\n",
      "4         1            0         1     1\n",
      "5         1            0         1     0\n",
      "6         0            0         1     0\n",
      "7         2            2         0     1\n",
      "8         2            0         1     1\n",
      "9         1            2         1     1\n",
      "10        2            2         1     0\n",
      "11        0            2         0     0\n",
      "12        0            1         1     1\n",
      "13        1            2         0     0\n"
     ]
    }
   ],
   "source": [
    "x = {\"Outlook\":a.transform(dataset[\"Outlook\"]),\"Temperature\":b.transform(dataset[\"Temperature\"]),\"Humidity\":c.transform(dataset[\"Humidity\"]),\"Wind\":d.transform(dataset[\"Wind\"])}\n",
    "x = pd.DataFrame(x)\n",
    "print(\"\\nThe encoded dataset is\\n\",x)"
   ]
  },
  {
   "cell_type": "code",
   "execution_count": 24,
   "id": "1ae048e8",
   "metadata": {},
   "outputs": [
    {
     "data": {
      "text/plain": [
       "GaussianNB()"
      ]
     },
     "execution_count": 24,
     "metadata": {},
     "output_type": "execute_result"
    }
   ],
   "source": [
    "from sklearn.naive_bayes import GaussianNB\n",
    "model = GaussianNB()\n",
    "model.fit(x,dataset['PlayTennis'])"
   ]
  },
  {
   "cell_type": "code",
   "execution_count": 25,
   "id": "bc642639",
   "metadata": {},
   "outputs": [],
   "source": [
    "y=np.array([a.transform([\"Sunny\"]),b.transform(['Cool']),c.transform([\"High\"]),d.transform([\"Strong\"])]).reshape(1,-1)\n"
   ]
  },
  {
   "cell_type": "code",
   "execution_count": 26,
   "id": "7d7fc495",
   "metadata": {},
   "outputs": [
    {
     "name": "stdout",
     "output_type": "stream",
     "text": [
      "\n",
      "The test case is Outlook=Sunny, Temperature=Cool, Humidity=high, Wing=Strong\n"
     ]
    }
   ],
   "source": [
    "print(\"\\nThe test case is Outlook=Sunny, Temperature=Cool, Humidity=high, Wing=Strong\")"
   ]
  },
  {
   "cell_type": "code",
   "execution_count": 27,
   "id": "db7ecafc",
   "metadata": {},
   "outputs": [
    {
     "name": "stdout",
     "output_type": "stream",
     "text": [
      "\n",
      "The encoded form of the test case is [[2 0 0 0]]\n"
     ]
    }
   ],
   "source": [
    "print(\"\\nThe encoded form of the test case is\",y)"
   ]
  },
  {
   "cell_type": "code",
   "execution_count": 28,
   "id": "8dc8c6cd",
   "metadata": {},
   "outputs": [
    {
     "name": "stdout",
     "output_type": "stream",
     "text": [
      "\n",
      "The predicted value for the test case is  ['No']\n"
     ]
    }
   ],
   "source": [
    "print(\"\\nThe predicted value for the test case is \",model.predict(y))\n"
   ]
  },
  {
   "cell_type": "code",
   "execution_count": null,
   "id": "47d7b6b4",
   "metadata": {},
   "outputs": [],
   "source": []
  }
 ],
 "metadata": {
  "kernelspec": {
   "display_name": "Python 3 (ipykernel)",
   "language": "python",
   "name": "python3"
  },
  "language_info": {
   "codemirror_mode": {
    "name": "ipython",
    "version": 3
   },
   "file_extension": ".py",
   "mimetype": "text/x-python",
   "name": "python",
   "nbconvert_exporter": "python",
   "pygments_lexer": "ipython3",
   "version": "3.9.4"
  }
 },
 "nbformat": 4,
 "nbformat_minor": 5
}
